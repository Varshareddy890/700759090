{
 "cells": [
  {
   "cell_type": "code",
   "execution_count": 1,
   "id": "885a3ad7",
   "metadata": {},
   "outputs": [
    {
     "name": "stdout",
     "output_type": "stream",
     "text": [
      "Enter your first Name: Varsha\n",
      "Enter your last Name: Reddy\n",
      "Your full name is  Varsha Reddy\n",
      "Enter a string to print alternate characters: VarshaReddy\n",
      "Alternative characters are VrhRdy\n"
     ]
    }
   ],
   "source": [
    "# method to print full name by combining firstname and lastname\n",
    "def full__Name(fName, lName):\n",
    "    Full_name = first__Name + \" \" + last__Name\n",
    "    print(\"Your full name is \", Full_name)\n",
    "\n",
    "# method to print alternative characters of a string\n",
    "def string_alternative(str):\n",
    "    print(\"Alternative characters are \" + str[::2])\n",
    "\n",
    "if __name__ == \"__main__\":\n",
    "    first__Name = input(\"Enter your first Name: \")\n",
    "    last__Name = input(\"Enter your last Name: \")\n",
    "    full__Name(first__Name, last__Name)\n",
    "    str = input(\"Enter a string to print alternate characters: \")\n",
    "    string_alternative(str)\n",
    "    "
   ]
  },
  {
   "cell_type": "code",
   "execution_count": 2,
   "id": "638f0058",
   "metadata": {},
   "outputs": [
    {
     "name": "stdout",
     "output_type": "stream",
     "text": [
      "Python Course\n",
      "Deep learning course\n",
      "\n"
     ]
    }
   ],
   "source": [
    "f = open(\"testinput.txt\",\"w\")\n",
    "f.write(\"Python Course\\n\")\n",
    "f.write(\"Deep learning course\\n\")\n",
    "f.close()\n",
    "f= open(\"testinput.txt\",\"r\")\n",
    "print(f.read())"
   ]
  },
  {
   "cell_type": "code",
   "execution_count": 3,
   "id": "313857b3",
   "metadata": {},
   "outputs": [
    {
     "name": "stdout",
     "output_type": "stream",
     "text": [
      "Python Course\n",
      "Deep learning course\n",
      "Word_Count:\n",
      "Python: 1\n",
      "Course: 1\n",
      "Deep: 1\n",
      "learning: 1\n",
      "course: 1\n"
     ]
    }
   ],
   "source": [
    "from collections import Counter\n",
    "\n",
    "# Reading input from input.txt\n",
    "with open('testinput.txt', 'r') as file:\n",
    "    lines = file.readlines()\n",
    "\n",
    "# Processing each line and count words\n",
    "wordcountperline = []\n",
    "\n",
    "for line in lines:\n",
    "    words = line.strip().split()\n",
    "    wordcountperline.append(Counter(words))\n",
    "\n",
    "# Printing the lines\n",
    "for line in lines:\n",
    "    print(line.strip())\n",
    "\n",
    "# Printing word counts for each word\n",
    "print(\"Word_Count:\")\n",
    "for word, count in Counter(word for wc in wordcountperline for word in wc).items():\n",
    "    print(f\"{word}: {count}\")\n",
    "\n",
    "# Storing the output in output.txt\n",
    "with open('testoutput.txt', 'w') as output_file:\n",
    "    for line in lines:\n",
    "        output_file.write(line)\n",
    "    output_file.write(\"Word_Count:\\n\")\n",
    "    for word, count in Counter(word for wc in wordcountperline for word in wc).items():\n",
    "        output_file.write(f\"{word}: {count}\\n\")"
   ]
  },
  {
   "cell_type": "code",
   "execution_count": 4,
   "id": "ba7f37bd",
   "metadata": {},
   "outputs": [
    {
     "name": "stdout",
     "output_type": "stream",
     "text": [
      "Enter size of list: 3\n",
      "143\n",
      "134\n",
      "166\n",
      "[363.22, 340.36, 421.64]\n"
     ]
    }
   ],
   "source": [
    "# below code snippet is the conversion of heights from inches to cms\n",
    "# using Nested Interactive loop & List comprehensions\n",
    "heights_List = []\n",
    "elements = int(input(\"Enter size of list: \"))\n",
    "for e in range(elements):\n",
    "    heights_List.append(float(input()))\n",
    "tempHeights_List = [2.54 * item for item in heights_List]\n",
    "print(tempHeights_List)"
   ]
  },
  {
   "cell_type": "code",
   "execution_count": null,
   "id": "d2c4ed84",
   "metadata": {},
   "outputs": [],
   "source": []
  }
 ],
 "metadata": {
  "kernelspec": {
   "display_name": "Python 3 (ipykernel)",
   "language": "python",
   "name": "python3"
  },
  "language_info": {
   "codemirror_mode": {
    "name": "ipython",
    "version": 3
   },
   "file_extension": ".py",
   "mimetype": "text/x-python",
   "name": "python",
   "nbconvert_exporter": "python",
   "pygments_lexer": "ipython3",
   "version": "3.9.7"
  }
 },
 "nbformat": 4,
 "nbformat_minor": 5
}
